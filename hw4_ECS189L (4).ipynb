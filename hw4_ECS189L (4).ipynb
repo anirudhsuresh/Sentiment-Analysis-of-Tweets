{
  "nbformat": 4,
  "nbformat_minor": 0,
  "metadata": {
    "colab": {
      "name": "hw4_ECS189L.ipynb",
      "provenance": []
    },
    "kernelspec": {
      "display_name": "Python 3",
      "name": "python3"
    }
  },
  "cells": [
    {
      "cell_type": "markdown",
      "metadata": {
        "id": "zEdr3pHuf4v6"
      },
      "source": [
        "# HomeWork #4 -Sentiment analysis (ECS 189L)\n",
        "##### ANIRUDH RAMCHANDRAN"
      ]
    },
    {
      "cell_type": "markdown",
      "metadata": {
        "id": "rQy3uIf3gBug"
      },
      "source": [
        "- import libraries necessary "
      ]
    },
    {
      "cell_type": "code",
      "metadata": {
        "colab": {
          "base_uri": "https://localhost:8080/"
        },
        "id": "FReCOM1Af15i",
        "outputId": "277c23aa-9c4d-4626-e560-1f54d0b90718"
      },
      "source": [
        "import pandas as pd \n",
        "import nltk\n",
        "import matplotlib.pyplot as plt\n",
        "import seaborn as sns\n",
        "import warnings\n",
        "import re\n",
        "import numpy as np\n",
        "\n",
        "warnings.filterwarnings('ignore')\n",
        "import nltk\n",
        "nltk.download('punkt')\n",
        "from nltk.tokenize import sent_tokenize, word_tokenize\n",
        "\n",
        "from nltk.corpus import stopwords\n",
        "nltk.download('stopwords')\n",
        "from nltk.corpus import stopwords\n",
        "from nltk.tokenize import word_tokenize\n",
        "\n",
        "import itertools\n",
        "import collections\n",
        "from sklearn.linear_model import LogisticRegression\n",
        "from sklearn.tree import DecisionTreeClassifier\n",
        "from sklearn.naive_bayes import MultinomialNB\n",
        "from sklearn.metrics import classification_report, confusion_matrix, accuracy_score\n",
        "from sklearn.metrics import plot_confusion_matrix\n",
        "from sklearn.feature_extraction.text import TfidfVectorizer\n",
        "from nltk.tokenize import word_tokenize\n",
        "from sklearn.model_selection import train_test_split"
      ],
      "execution_count": 1,
      "outputs": [
        {
          "output_type": "stream",
          "text": [
            "[nltk_data] Downloading package punkt to /root/nltk_data...\n",
            "[nltk_data]   Unzipping tokenizers/punkt.zip.\n",
            "[nltk_data] Downloading package stopwords to /root/nltk_data...\n",
            "[nltk_data]   Unzipping corpora/stopwords.zip.\n"
          ],
          "name": "stdout"
        }
      ]
    },
    {
      "cell_type": "markdown",
      "metadata": {
        "id": "LdX5-MUngKUU"
      },
      "source": [
        "- reading the data and storing into data frame "
      ]
    },
    {
      "cell_type": "code",
      "metadata": {
        "id": "wNhVVLXZghYp"
      },
      "source": [
        "df_ori=pd.read_csv('https://raw.githubusercontent.com/lkyin/ECS189L/main/Tweets.csv')\n",
        "df=df_ori.copy()"
      ],
      "execution_count": 2,
      "outputs": []
    },
    {
      "cell_type": "code",
      "metadata": {
        "colab": {
          "base_uri": "https://localhost:8080/",
          "height": 434
        },
        "id": "pFe64Y8Egzn4",
        "outputId": "800dd9d9-e722-49eb-c0aa-05168a0610b9"
      },
      "source": [
        "df.head()"
      ],
      "execution_count": 3,
      "outputs": [
        {
          "output_type": "execute_result",
          "data": {
            "text/html": [
              "<div>\n",
              "<style scoped>\n",
              "    .dataframe tbody tr th:only-of-type {\n",
              "        vertical-align: middle;\n",
              "    }\n",
              "\n",
              "    .dataframe tbody tr th {\n",
              "        vertical-align: top;\n",
              "    }\n",
              "\n",
              "    .dataframe thead th {\n",
              "        text-align: right;\n",
              "    }\n",
              "</style>\n",
              "<table border=\"1\" class=\"dataframe\">\n",
              "  <thead>\n",
              "    <tr style=\"text-align: right;\">\n",
              "      <th></th>\n",
              "      <th>tweet_id</th>\n",
              "      <th>airline_sentiment</th>\n",
              "      <th>airline_sentiment_confidence</th>\n",
              "      <th>negativereason</th>\n",
              "      <th>negativereason_confidence</th>\n",
              "      <th>airline</th>\n",
              "      <th>airline_sentiment_gold</th>\n",
              "      <th>name</th>\n",
              "      <th>negativereason_gold</th>\n",
              "      <th>retweet_count</th>\n",
              "      <th>text</th>\n",
              "      <th>tweet_coord</th>\n",
              "      <th>tweet_created</th>\n",
              "      <th>tweet_location</th>\n",
              "      <th>user_timezone</th>\n",
              "    </tr>\n",
              "  </thead>\n",
              "  <tbody>\n",
              "    <tr>\n",
              "      <th>0</th>\n",
              "      <td>570306133677760513</td>\n",
              "      <td>neutral</td>\n",
              "      <td>1.0000</td>\n",
              "      <td>NaN</td>\n",
              "      <td>NaN</td>\n",
              "      <td>Virgin America</td>\n",
              "      <td>NaN</td>\n",
              "      <td>cairdin</td>\n",
              "      <td>NaN</td>\n",
              "      <td>0</td>\n",
              "      <td>@VirginAmerica What @dhepburn said.</td>\n",
              "      <td>NaN</td>\n",
              "      <td>2015-02-24 11:35:52 -0800</td>\n",
              "      <td>NaN</td>\n",
              "      <td>Eastern Time (US &amp; Canada)</td>\n",
              "    </tr>\n",
              "    <tr>\n",
              "      <th>1</th>\n",
              "      <td>570301130888122368</td>\n",
              "      <td>positive</td>\n",
              "      <td>0.3486</td>\n",
              "      <td>NaN</td>\n",
              "      <td>0.0000</td>\n",
              "      <td>Virgin America</td>\n",
              "      <td>NaN</td>\n",
              "      <td>jnardino</td>\n",
              "      <td>NaN</td>\n",
              "      <td>0</td>\n",
              "      <td>@VirginAmerica plus you've added commercials t...</td>\n",
              "      <td>NaN</td>\n",
              "      <td>2015-02-24 11:15:59 -0800</td>\n",
              "      <td>NaN</td>\n",
              "      <td>Pacific Time (US &amp; Canada)</td>\n",
              "    </tr>\n",
              "    <tr>\n",
              "      <th>2</th>\n",
              "      <td>570301083672813571</td>\n",
              "      <td>neutral</td>\n",
              "      <td>0.6837</td>\n",
              "      <td>NaN</td>\n",
              "      <td>NaN</td>\n",
              "      <td>Virgin America</td>\n",
              "      <td>NaN</td>\n",
              "      <td>yvonnalynn</td>\n",
              "      <td>NaN</td>\n",
              "      <td>0</td>\n",
              "      <td>@VirginAmerica I didn't today... Must mean I n...</td>\n",
              "      <td>NaN</td>\n",
              "      <td>2015-02-24 11:15:48 -0800</td>\n",
              "      <td>Lets Play</td>\n",
              "      <td>Central Time (US &amp; Canada)</td>\n",
              "    </tr>\n",
              "    <tr>\n",
              "      <th>3</th>\n",
              "      <td>570301031407624196</td>\n",
              "      <td>negative</td>\n",
              "      <td>1.0000</td>\n",
              "      <td>Bad Flight</td>\n",
              "      <td>0.7033</td>\n",
              "      <td>Virgin America</td>\n",
              "      <td>NaN</td>\n",
              "      <td>jnardino</td>\n",
              "      <td>NaN</td>\n",
              "      <td>0</td>\n",
              "      <td>@VirginAmerica it's really aggressive to blast...</td>\n",
              "      <td>NaN</td>\n",
              "      <td>2015-02-24 11:15:36 -0800</td>\n",
              "      <td>NaN</td>\n",
              "      <td>Pacific Time (US &amp; Canada)</td>\n",
              "    </tr>\n",
              "    <tr>\n",
              "      <th>4</th>\n",
              "      <td>570300817074462722</td>\n",
              "      <td>negative</td>\n",
              "      <td>1.0000</td>\n",
              "      <td>Can't Tell</td>\n",
              "      <td>1.0000</td>\n",
              "      <td>Virgin America</td>\n",
              "      <td>NaN</td>\n",
              "      <td>jnardino</td>\n",
              "      <td>NaN</td>\n",
              "      <td>0</td>\n",
              "      <td>@VirginAmerica and it's a really big bad thing...</td>\n",
              "      <td>NaN</td>\n",
              "      <td>2015-02-24 11:14:45 -0800</td>\n",
              "      <td>NaN</td>\n",
              "      <td>Pacific Time (US &amp; Canada)</td>\n",
              "    </tr>\n",
              "  </tbody>\n",
              "</table>\n",
              "</div>"
            ],
            "text/plain": [
              "             tweet_id  ...               user_timezone\n",
              "0  570306133677760513  ...  Eastern Time (US & Canada)\n",
              "1  570301130888122368  ...  Pacific Time (US & Canada)\n",
              "2  570301083672813571  ...  Central Time (US & Canada)\n",
              "3  570301031407624196  ...  Pacific Time (US & Canada)\n",
              "4  570300817074462722  ...  Pacific Time (US & Canada)\n",
              "\n",
              "[5 rows x 15 columns]"
            ]
          },
          "metadata": {
            "tags": []
          },
          "execution_count": 3
        }
      ]
    },
    {
      "cell_type": "code",
      "metadata": {
        "colab": {
          "base_uri": "https://localhost:8080/"
        },
        "id": "luUGt1pUg1dA",
        "outputId": "909b95c4-d665-49cc-e644-886210d57309"
      },
      "source": [
        "df.shape"
      ],
      "execution_count": 4,
      "outputs": [
        {
          "output_type": "execute_result",
          "data": {
            "text/plain": [
              "(14640, 15)"
            ]
          },
          "metadata": {
            "tags": []
          },
          "execution_count": 4
        }
      ]
    },
    {
      "cell_type": "markdown",
      "metadata": {
        "id": "n6LR-24eg7eQ"
      },
      "source": [
        "##  Data Cleaning "
      ]
    },
    {
      "cell_type": "markdown",
      "metadata": {
        "id": "3UJ2CR70hK04"
      },
      "source": [
        "- checking the percentage of missing values"
      ]
    },
    {
      "cell_type": "code",
      "metadata": {
        "colab": {
          "base_uri": "https://localhost:8080/"
        },
        "id": "uHJk8vtjhClw",
        "outputId": "e64a31dd-3202-491c-e870-8f0c1fee824a"
      },
      "source": [
        "Nan_values=df.isna().sum().sort_values(ascending=False)*100/len(df)\n",
        "Nan_values"
      ],
      "execution_count": 5,
      "outputs": [
        {
          "output_type": "execute_result",
          "data": {
            "text/plain": [
              "negativereason_gold             99.781421\n",
              "airline_sentiment_gold          99.726776\n",
              "tweet_coord                     93.039617\n",
              "negativereason                  37.308743\n",
              "user_timezone                   32.923497\n",
              "tweet_location                  32.329235\n",
              "negativereason_confidence       28.128415\n",
              "tweet_created                    0.000000\n",
              "text                             0.000000\n",
              "retweet_count                    0.000000\n",
              "name                             0.000000\n",
              "airline                          0.000000\n",
              "airline_sentiment_confidence     0.000000\n",
              "airline_sentiment                0.000000\n",
              "tweet_id                         0.000000\n",
              "dtype: float64"
            ]
          },
          "metadata": {
            "tags": []
          },
          "execution_count": 5
        }
      ]
    },
    {
      "cell_type": "markdown",
      "metadata": {
        "id": "i17IjKnZhN0U"
      },
      "source": [
        "- we see that the columns ,negativereason_gold, airlines_sentiment_gold,tweet_coord have over 99% Nan values so we are omitting them                      "
      ]
    },
    {
      "cell_type": "code",
      "metadata": {
        "id": "rLahxFuakB-8"
      },
      "source": [
        "df=df.drop(columns=['negativereason_gold','airline_sentiment_gold','tweet_coord'])"
      ],
      "execution_count": 6,
      "outputs": []
    },
    {
      "cell_type": "markdown",
      "metadata": {
        "id": "xN3fn6SzIpSG"
      },
      "source": [
        "# EDA"
      ]
    },
    {
      "cell_type": "markdown",
      "metadata": {
        "id": "QzVZ0f_PZRVJ"
      },
      "source": [
        "- First we can wee how many unique airlines are there "
      ]
    },
    {
      "cell_type": "code",
      "metadata": {
        "colab": {
          "base_uri": "https://localhost:8080/"
        },
        "id": "KNXzkDU_I0P1",
        "outputId": "bab83eb3-9ab3-4b89-e489-ba222f2c301d"
      },
      "source": [
        "df['airline'].unique()"
      ],
      "execution_count": 7,
      "outputs": [
        {
          "output_type": "execute_result",
          "data": {
            "text/plain": [
              "array(['Virgin America', 'United', 'Southwest', 'Delta', 'US Airways',\n",
              "       'American'], dtype=object)"
            ]
          },
          "metadata": {
            "tags": []
          },
          "execution_count": 7
        }
      ]
    },
    {
      "cell_type": "markdown",
      "metadata": {
        "id": "-z_0gY6qWLwB"
      },
      "source": [
        "- Then lets look at how many sentiments exists per airline"
      ]
    },
    {
      "cell_type": "code",
      "metadata": {
        "colab": {
          "base_uri": "https://localhost:8080/"
        },
        "id": "FG6HOn6dIrqj",
        "outputId": "b2ea4cc0-2047-49bf-d2c9-99a85bd0d12a"
      },
      "source": [
        "df.groupby('airline')['airline_sentiment'].count().sort_values()"
      ],
      "execution_count": 8,
      "outputs": [
        {
          "output_type": "execute_result",
          "data": {
            "text/plain": [
              "airline\n",
              "Virgin America     504\n",
              "Delta             2222\n",
              "Southwest         2420\n",
              "American          2759\n",
              "US Airways        2913\n",
              "United            3822\n",
              "Name: airline_sentiment, dtype: int64"
            ]
          },
          "metadata": {
            "tags": []
          },
          "execution_count": 8
        }
      ]
    },
    {
      "cell_type": "code",
      "metadata": {
        "colab": {
          "base_uri": "https://localhost:8080/"
        },
        "id": "-R_JfyR_Irhr",
        "outputId": "22b63856-61f1-4dc6-a578-7baf11c228cb"
      },
      "source": [
        "df.groupby('airline')['airline_sentiment'].value_counts()"
      ],
      "execution_count": 9,
      "outputs": [
        {
          "output_type": "execute_result",
          "data": {
            "text/plain": [
              "airline         airline_sentiment\n",
              "American        negative             1960\n",
              "                neutral               463\n",
              "                positive              336\n",
              "Delta           negative              955\n",
              "                neutral               723\n",
              "                positive              544\n",
              "Southwest       negative             1186\n",
              "                neutral               664\n",
              "                positive              570\n",
              "US Airways      negative             2263\n",
              "                neutral               381\n",
              "                positive              269\n",
              "United          negative             2633\n",
              "                neutral               697\n",
              "                positive              492\n",
              "Virgin America  negative              181\n",
              "                neutral               171\n",
              "                positive              152\n",
              "Name: airline_sentiment, dtype: int64"
            ]
          },
          "metadata": {
            "tags": []
          },
          "execution_count": 9
        }
      ]
    },
    {
      "cell_type": "markdown",
      "metadata": {
        "id": "3sr9B4yfWkvR"
      },
      "source": [
        "- from the analysis we can understand that United has the most negative tweets\n",
        "- Southwest has the most positive tweets \n",
        "-Virgin America has all types of tweets at quite a simlar rate "
      ]
    },
    {
      "cell_type": "markdown",
      "metadata": {
        "id": "t_f_p-VmXaph"
      },
      "source": [
        "- Next lets look at the reasons for negative tweets "
      ]
    },
    {
      "cell_type": "code",
      "metadata": {
        "id": "l7T8Lvo7Jguw"
      },
      "source": [
        "df_r=df[df['airline_sentiment']=='negative']"
      ],
      "execution_count": 10,
      "outputs": []
    },
    {
      "cell_type": "code",
      "metadata": {
        "colab": {
          "base_uri": "https://localhost:8080/"
        },
        "id": "HgsgjwUUJemi",
        "outputId": "4aa56dad-5443-49c2-9b98-2fdec10fcec6"
      },
      "source": [
        "y=df_r['negativereason'].value_counts()\n",
        "y"
      ],
      "execution_count": 11,
      "outputs": [
        {
          "output_type": "execute_result",
          "data": {
            "text/plain": [
              "Customer Service Issue         2910\n",
              "Late Flight                    1665\n",
              "Can't Tell                     1190\n",
              "Cancelled Flight                847\n",
              "Lost Luggage                    724\n",
              "Bad Flight                      580\n",
              "Flight Booking Problems         529\n",
              "Flight Attendant Complaints     481\n",
              "longlines                       178\n",
              "Damaged Luggage                  74\n",
              "Name: negativereason, dtype: int64"
            ]
          },
          "metadata": {
            "tags": []
          },
          "execution_count": 11
        }
      ]
    },
    {
      "cell_type": "code",
      "metadata": {
        "id": "MmXYyQPxJ0_Z"
      },
      "source": [
        "x=['Customer Service Issue',         \n",
        "'Late Flight' ,                  \n",
        "'Cant Tell',                   \n",
        "'Cancelled Flight',               \n",
        "'Lost Luggage',                    \n",
        "'Bad Flight',                      \n",
        "'Flight Booking Problems',         \n",
        "'Flight Attendant Complaints',   \n",
        "'longlines',                     \n",
        "'Damaged Luggage']                  "
      ],
      "execution_count": 12,
      "outputs": []
    },
    {
      "cell_type": "code",
      "metadata": {
        "colab": {
          "base_uri": "https://localhost:8080/",
          "height": 564
        },
        "id": "ZWYr_iDpJll7",
        "outputId": "e40adcd4-d7d5-4228-8984-eebdafe63df4"
      },
      "source": [
        "y=df_r['negativereason'].value_counts()\n",
        "# x=df_r['negativereason'].unique()\n",
        "plt=sns.barplot(x,y)\n",
        "plt.set_xticklabels(x,rotation=90)"
      ],
      "execution_count": 13,
      "outputs": [
        {
          "output_type": "execute_result",
          "data": {
            "text/plain": [
              "[Text(0, 0, 'Customer Service Issue'),\n",
              " Text(0, 0, 'Late Flight'),\n",
              " Text(0, 0, 'Cant Tell'),\n",
              " Text(0, 0, 'Cancelled Flight'),\n",
              " Text(0, 0, 'Lost Luggage'),\n",
              " Text(0, 0, 'Bad Flight'),\n",
              " Text(0, 0, 'Flight Booking Problems'),\n",
              " Text(0, 0, 'Flight Attendant Complaints'),\n",
              " Text(0, 0, 'longlines'),\n",
              " Text(0, 0, 'Damaged Luggage')]"
            ]
          },
          "metadata": {
            "tags": []
          },
          "execution_count": 13
        },
        {
          "output_type": "display_data",
          "data": {
            "image/png": "[encoded data removed]",
            "text/plain": [
              "<Figure size 432x288 with 1 Axes>"
            ]
          },
          "metadata": {
            "tags": [],
            "needs_background": "light"
          }
        }
      ]
    },
    {
      "cell_type": "markdown",
      "metadata": {
        "id": "8qS0HbrkXhlm"
      },
      "source": [
        "- As we can see Customer service issue is the major reason for negative tweets for all airlines"
      ]
    },
    {
      "cell_type": "markdown",
      "metadata": {
        "id": "OuWNzoJZlZDd"
      },
      "source": [
        "# Part #1 "
      ]
    },
    {
      "cell_type": "markdown",
      "metadata": {
        "id": "i0o6AsSRvQzc"
      },
      "source": [
        "- For this function and the next function get_cleaned (in modelling part) I used the following resources linked below, for reference and ideas to help cleaning the data"
      ]
    },
    {
      "cell_type": "markdown",
      "metadata": {
        "id": "dBA5td7bzUpk"
      },
      "source": [
        "- https://stackoverflow.com/questions/3594514/how-to-find-most-common-elements-of-a-list\n",
        "- https://stackoverflow.com/questions/33094164/regular-expression-remove-words-within-string-python\n",
        "- https://stackoverflow.com/questions/1546226/is-there-a-simple-way-to-remove-multiple-spaces-in-a-string\n",
        "- https://www.w3resource.com/python-exercises/re/python-re-exercise-39.php\n",
        "- https://stackoverflow.com/questions/6067592/regular-expression-to-match-only-alphabetic-characters/6067606"
      ]
    },
    {
      "cell_type": "code",
      "metadata": {
        "id": "W8oKmRo6lIo9"
      },
      "source": [
        "def get_frequency(df):\n",
        "  # first getting the right column from the input data frame \n",
        "  text_data = df.iloc[:, 8].values\n",
        "  clean_words=[]\n",
        "  n=len(text_data)\n",
        "  # initial cleaning \n",
        "  for word in text_data:\n",
        "      f=word\n",
        "      #  since we need it in the form of a list\n",
        "      f=str(f)\n",
        "      # to mentions\n",
        "      c=re.sub(pattern=r'@\\w+', repl='',string=f)\n",
        "      # remove urls\n",
        "      c=re.sub(pattern=r'http\\S+',repl='', string=c)\n",
        "      #  to remove all special characters \n",
        "      c = re.sub(pattern=r'\\W', repl=' ', string=c)\n",
        "\n",
        "\n",
        "      clean_words.append(c)\n",
        "  # next round of cleaning \n",
        "  t=clean_words\n",
        "  new_cleaned_words=[]\n",
        "  for word in t:\n",
        "      f=word\n",
        "      #  since we need it in the form of a list\n",
        "      f=str(f)\n",
        "      # keeping only alphabets\n",
        "      c = re.sub(pattern='[^a-zA-Z]', repl=' ',string=f)\n",
        "      # removing multiple spaces\n",
        "      c = re.sub(pattern=r'\\^[a-zA-Z]\\s+', repl=' ',string=c)\n",
        "      c = re.sub(pattern=r'\\s\\s+', repl=' ',string=c,flags=re.I)\n",
        "      new_cleaned_words.append(c.lower())    \n",
        "\n",
        "  # removing stop words \n",
        "  new_words=[]\n",
        "  for word in new_cleaned_words:\n",
        "    example_sent=word\n",
        "    stop_words = set(stopwords.words('english'))\n",
        "    word_tokens = word_tokenize(example_sent)\n",
        "    filtered_sentence = [w for w in word_tokens if not w in stop_words]\n",
        "    for i in filtered_sentence:\n",
        "      new_words.append(i) \n",
        "   \n",
        "  # # trying to count and create a data frame for displaying \n",
        "  # # first we create one single iteration using itertools.chain\n",
        "  words_iter=itertools.chain(new_words)\n",
        "  #  then we make it in the form of a list\n",
        "  word_list=list(words_iter)\n",
        "\n",
        "\n",
        "  # # create a counter of all the words in the form of a dictionary \n",
        "  word_counts = collections.Counter(word_list)\n",
        "  # # now we need to store it into a data frame to display , so that it looks more presentable\n",
        "  #  removing the most common words using most_common() of Counter \n",
        "  common=word_counts.most_common(10) \n",
        "  df_words=pd.DataFrame(common, columns=['Words','Count/Frequency'])\n",
        "  # #  we return the top 10 words \n",
        "  return df_words.head(10) \n",
        "  # return word_list"
      ],
      "execution_count": 14,
      "outputs": []
    },
    {
      "cell_type": "markdown",
      "metadata": {
        "id": "f__oEABSYHIH"
      },
      "source": [
        "### top 10 most frequently used words for negative sentiment "
      ]
    },
    {
      "cell_type": "code",
      "metadata": {
        "colab": {
          "base_uri": "https://localhost:8080/",
          "height": 343
        },
        "id": "13fIbbm_vnMY",
        "outputId": "86e4e991-6492-48cb-bf84-53a8cf6f6aa6"
      },
      "source": [
        "df_negg=df[df['airline_sentiment']=='negative']\n",
        "get_frequency(df_negg)"
      ],
      "execution_count": 15,
      "outputs": [
        {
          "output_type": "execute_result",
          "data": {
            "text/html": [
              "<div>\n",
              "<style scoped>\n",
              "    .dataframe tbody tr th:only-of-type {\n",
              "        vertical-align: middle;\n",
              "    }\n",
              "\n",
              "    .dataframe tbody tr th {\n",
              "        vertical-align: top;\n",
              "    }\n",
              "\n",
              "    .dataframe thead th {\n",
              "        text-align: right;\n",
              "    }\n",
              "</style>\n",
              "<table border=\"1\" class=\"dataframe\">\n",
              "  <thead>\n",
              "    <tr style=\"text-align: right;\">\n",
              "      <th></th>\n",
              "      <th>Words</th>\n",
              "      <th>Count/Frequency</th>\n",
              "    </tr>\n",
              "  </thead>\n",
              "  <tbody>\n",
              "    <tr>\n",
              "      <th>0</th>\n",
              "      <td>flight</td>\n",
              "      <td>2959</td>\n",
              "    </tr>\n",
              "    <tr>\n",
              "      <th>1</th>\n",
              "      <td>get</td>\n",
              "      <td>990</td>\n",
              "    </tr>\n",
              "    <tr>\n",
              "      <th>2</th>\n",
              "      <td>cancelled</td>\n",
              "      <td>926</td>\n",
              "    </tr>\n",
              "    <tr>\n",
              "      <th>3</th>\n",
              "      <td>service</td>\n",
              "      <td>750</td>\n",
              "    </tr>\n",
              "    <tr>\n",
              "      <th>4</th>\n",
              "      <td>hours</td>\n",
              "      <td>659</td>\n",
              "    </tr>\n",
              "    <tr>\n",
              "      <th>5</th>\n",
              "      <td>help</td>\n",
              "      <td>619</td>\n",
              "    </tr>\n",
              "    <tr>\n",
              "      <th>6</th>\n",
              "      <td>hold</td>\n",
              "      <td>614</td>\n",
              "    </tr>\n",
              "    <tr>\n",
              "      <th>7</th>\n",
              "      <td>customer</td>\n",
              "      <td>614</td>\n",
              "    </tr>\n",
              "    <tr>\n",
              "      <th>8</th>\n",
              "      <td>time</td>\n",
              "      <td>599</td>\n",
              "    </tr>\n",
              "    <tr>\n",
              "      <th>9</th>\n",
              "      <td>plane</td>\n",
              "      <td>532</td>\n",
              "    </tr>\n",
              "  </tbody>\n",
              "</table>\n",
              "</div>"
            ],
            "text/plain": [
              "       Words  Count/Frequency\n",
              "0     flight             2959\n",
              "1        get              990\n",
              "2  cancelled              926\n",
              "3    service              750\n",
              "4      hours              659\n",
              "5       help              619\n",
              "6       hold              614\n",
              "7   customer              614\n",
              "8       time              599\n",
              "9      plane              532"
            ]
          },
          "metadata": {
            "tags": []
          },
          "execution_count": 15
        }
      ]
    },
    {
      "cell_type": "markdown",
      "metadata": {
        "id": "8OpbOF7gYOoU"
      },
      "source": [
        "### top 10 most frequently used words for positive sentiment "
      ]
    },
    {
      "cell_type": "code",
      "metadata": {
        "colab": {
          "base_uri": "https://localhost:8080/",
          "height": 343
        },
        "id": "f_u1mNjBxApp",
        "outputId": "a6cf593a-c2fa-42ba-874b-850f645f590f"
      },
      "source": [
        "df_pos=df[df['airline_sentiment']=='positive']\n",
        "get_frequency(df_pos)"
      ],
      "execution_count": 16,
      "outputs": [
        {
          "output_type": "execute_result",
          "data": {
            "text/html": [
              "<div>\n",
              "<style scoped>\n",
              "    .dataframe tbody tr th:only-of-type {\n",
              "        vertical-align: middle;\n",
              "    }\n",
              "\n",
              "    .dataframe tbody tr th {\n",
              "        vertical-align: top;\n",
              "    }\n",
              "\n",
              "    .dataframe thead th {\n",
              "        text-align: right;\n",
              "    }\n",
              "</style>\n",
              "<table border=\"1\" class=\"dataframe\">\n",
              "  <thead>\n",
              "    <tr style=\"text-align: right;\">\n",
              "      <th></th>\n",
              "      <th>Words</th>\n",
              "      <th>Count/Frequency</th>\n",
              "    </tr>\n",
              "  </thead>\n",
              "  <tbody>\n",
              "    <tr>\n",
              "      <th>0</th>\n",
              "      <td>thanks</td>\n",
              "      <td>611</td>\n",
              "    </tr>\n",
              "    <tr>\n",
              "      <th>1</th>\n",
              "      <td>thank</td>\n",
              "      <td>455</td>\n",
              "    </tr>\n",
              "    <tr>\n",
              "      <th>2</th>\n",
              "      <td>flight</td>\n",
              "      <td>382</td>\n",
              "    </tr>\n",
              "    <tr>\n",
              "      <th>3</th>\n",
              "      <td>great</td>\n",
              "      <td>236</td>\n",
              "    </tr>\n",
              "    <tr>\n",
              "      <th>4</th>\n",
              "      <td>service</td>\n",
              "      <td>162</td>\n",
              "    </tr>\n",
              "    <tr>\n",
              "      <th>5</th>\n",
              "      <td>love</td>\n",
              "      <td>135</td>\n",
              "    </tr>\n",
              "    <tr>\n",
              "      <th>6</th>\n",
              "      <td>customer</td>\n",
              "      <td>114</td>\n",
              "    </tr>\n",
              "    <tr>\n",
              "      <th>7</th>\n",
              "      <td>get</td>\n",
              "      <td>114</td>\n",
              "    </tr>\n",
              "    <tr>\n",
              "      <th>8</th>\n",
              "      <td>guys</td>\n",
              "      <td>110</td>\n",
              "    </tr>\n",
              "    <tr>\n",
              "      <th>9</th>\n",
              "      <td>good</td>\n",
              "      <td>109</td>\n",
              "    </tr>\n",
              "  </tbody>\n",
              "</table>\n",
              "</div>"
            ],
            "text/plain": [
              "      Words  Count/Frequency\n",
              "0    thanks              611\n",
              "1     thank              455\n",
              "2    flight              382\n",
              "3     great              236\n",
              "4   service              162\n",
              "5      love              135\n",
              "6  customer              114\n",
              "7       get              114\n",
              "8      guys              110\n",
              "9      good              109"
            ]
          },
          "metadata": {
            "tags": []
          },
          "execution_count": 16
        }
      ]
    },
    {
      "cell_type": "markdown",
      "metadata": {
        "id": "0uu2iHy4YQ7h"
      },
      "source": [
        "### top 10 most frequently used words for neutral sentiment "
      ]
    },
    {
      "cell_type": "code",
      "metadata": {
        "colab": {
          "base_uri": "https://localhost:8080/",
          "height": 343
        },
        "id": "jOacKFLQ3Y0Q",
        "outputId": "8df97b2b-9f7f-4bb1-c60a-a14aa22144d6"
      },
      "source": [
        "df_neu=df[df['airline_sentiment']=='neutral']\n",
        "get_frequency(df_neu)"
      ],
      "execution_count": 17,
      "outputs": [
        {
          "output_type": "execute_result",
          "data": {
            "text/html": [
              "<div>\n",
              "<style scoped>\n",
              "    .dataframe tbody tr th:only-of-type {\n",
              "        vertical-align: middle;\n",
              "    }\n",
              "\n",
              "    .dataframe tbody tr th {\n",
              "        vertical-align: top;\n",
              "    }\n",
              "\n",
              "    .dataframe thead th {\n",
              "        text-align: right;\n",
              "    }\n",
              "</style>\n",
              "<table border=\"1\" class=\"dataframe\">\n",
              "  <thead>\n",
              "    <tr style=\"text-align: right;\">\n",
              "      <th></th>\n",
              "      <th>Words</th>\n",
              "      <th>Count/Frequency</th>\n",
              "    </tr>\n",
              "  </thead>\n",
              "  <tbody>\n",
              "    <tr>\n",
              "      <th>0</th>\n",
              "      <td>flight</td>\n",
              "      <td>617</td>\n",
              "    </tr>\n",
              "    <tr>\n",
              "      <th>1</th>\n",
              "      <td>get</td>\n",
              "      <td>238</td>\n",
              "    </tr>\n",
              "    <tr>\n",
              "      <th>2</th>\n",
              "      <td>please</td>\n",
              "      <td>182</td>\n",
              "    </tr>\n",
              "    <tr>\n",
              "      <th>3</th>\n",
              "      <td>help</td>\n",
              "      <td>170</td>\n",
              "    </tr>\n",
              "    <tr>\n",
              "      <th>4</th>\n",
              "      <td>flights</td>\n",
              "      <td>169</td>\n",
              "    </tr>\n",
              "    <tr>\n",
              "      <th>5</th>\n",
              "      <td>need</td>\n",
              "      <td>164</td>\n",
              "    </tr>\n",
              "    <tr>\n",
              "      <th>6</th>\n",
              "      <td>thanks</td>\n",
              "      <td>157</td>\n",
              "    </tr>\n",
              "    <tr>\n",
              "      <th>7</th>\n",
              "      <td>dm</td>\n",
              "      <td>132</td>\n",
              "    </tr>\n",
              "    <tr>\n",
              "      <th>8</th>\n",
              "      <td>would</td>\n",
              "      <td>123</td>\n",
              "    </tr>\n",
              "    <tr>\n",
              "      <th>9</th>\n",
              "      <td>us</td>\n",
              "      <td>112</td>\n",
              "    </tr>\n",
              "  </tbody>\n",
              "</table>\n",
              "</div>"
            ],
            "text/plain": [
              "     Words  Count/Frequency\n",
              "0   flight              617\n",
              "1      get              238\n",
              "2   please              182\n",
              "3     help              170\n",
              "4  flights              169\n",
              "5     need              164\n",
              "6   thanks              157\n",
              "7       dm              132\n",
              "8    would              123\n",
              "9       us              112"
            ]
          },
          "metadata": {
            "tags": []
          },
          "execution_count": 17
        }
      ]
    },
    {
      "cell_type": "markdown",
      "metadata": {
        "id": "EC2q65TT4Maz"
      },
      "source": [
        "# Part 2 Modelling "
      ]
    },
    {
      "cell_type": "markdown",
      "metadata": {
        "id": "a_D8_-r36CIG"
      },
      "source": [
        "- getting the labels and the text data for modelling and processing "
      ]
    },
    {
      "cell_type": "code",
      "metadata": {
        "id": "MvRCK7Cp3iNB"
      },
      "source": [
        "text_data = df.iloc[:, 8].values\n",
        "labels = df.iloc[:, 1].values"
      ],
      "execution_count": 18,
      "outputs": []
    },
    {
      "cell_type": "markdown",
      "metadata": {
        "id": "wa4UG7j485ve"
      },
      "source": [
        "- this function is simlar to the previous function get_frequency \n",
        "- it helps in cleaning the tweet text"
      ]
    },
    {
      "cell_type": "code",
      "metadata": {
        "id": "uiagcX7T80An"
      },
      "source": [
        "def get_cleaned(df):\n",
        "\n",
        "  clean_words=[]\n",
        "  n=len(text_data)\n",
        "  # \n",
        "  for word in text_data:\n",
        "      f=word\n",
        "      #  since we need it in the form of a list\n",
        "      f=str(f)\n",
        "      # to mentions\n",
        "      c=re.sub(pattern=r'@\\w+', repl='',string=f)\n",
        "      # remove urls\n",
        "      c=re.sub(pattern=r'http\\S+',repl='', string=c)\n",
        "      #  to remove all special characters \n",
        "      c = re.sub(pattern=r'\\W', repl=' ', string=c)\n",
        "\n",
        "\n",
        "      clean_words.append(c)\n",
        "  # \n",
        "  t=clean_words\n",
        "  new_cleaned_words=[]\n",
        "  for word in t:\n",
        "      f=word\n",
        "      #  since we need it in the form of a list\n",
        "      f=str(f)\n",
        "      # keeping only alphabets\n",
        "      c = re.sub(pattern='[^a-zA-Z]', repl=' ',string=f)\n",
        "      # removing multiple spaces\n",
        "      c = re.sub(pattern=r'\\^[a-zA-Z]\\s+', repl=' ',string=c)\n",
        "      c = re.sub(pattern=r'\\s\\s+', repl=' ',string=c,flags=re.I)\n",
        "      new_cleaned_words.append(c.lower())\n",
        "  return new_cleaned_words"
      ],
      "execution_count": 19,
      "outputs": []
    },
    {
      "cell_type": "code",
      "metadata": {
        "id": "6BF5BBbt81-C"
      },
      "source": [
        "# get the cleaned data using the function defined previously \n",
        "data=get_cleaned(text_data) "
      ],
      "execution_count": 20,
      "outputs": []
    },
    {
      "cell_type": "markdown",
      "metadata": {
        "id": "0lkrI0RNbXl0"
      },
      "source": [
        "- Since i did not remove stop words before I am removing it while vetorizing "
      ]
    },
    {
      "cell_type": "code",
      "metadata": {
        "id": "0k7DD-MG9iee"
      },
      "source": [
        "vectorizer = TfidfVectorizer(stop_words=stopwords.words('english'))\n",
        "vectorized_features = vectorizer.fit_transform(data)\n",
        "new_feat=vectorized_features.toarray()"
      ],
      "execution_count": 21,
      "outputs": []
    },
    {
      "cell_type": "markdown",
      "metadata": {
        "id": "zE6eaXr7d1MV"
      },
      "source": [
        "- Now we once we get vectorized features , we split it into train test split , and we divide it into 80% train and 20% test"
      ]
    },
    {
      "cell_type": "code",
      "metadata": {
        "id": "wAfcwDYPcg0N"
      },
      "source": [
        "X_train, X_test, y_train, y_test = train_test_split(new_feat, labels, test_size=0.2, random_state=0)"
      ],
      "execution_count": 22,
      "outputs": []
    },
    {
      "cell_type": "markdown",
      "metadata": {
        "id": "cCDnroyY2_re"
      },
      "source": [
        "- I have used Naive Bayes classifier model "
      ]
    },
    {
      "cell_type": "code",
      "metadata": {
        "id": "5-weZQ6LeR_s"
      },
      "source": [
        "model_nb= MultinomialNB()\n",
        "model_nb.fit(X_train, y_train)\n",
        "y_pred_nb = model_nb.predict(X_test)"
      ],
      "execution_count": 23,
      "outputs": []
    },
    {
      "cell_type": "code",
      "metadata": {
        "colab": {
          "base_uri": "https://localhost:8080/"
        },
        "id": "4j692cgVloeh",
        "outputId": "500686e4-8ed2-458c-98c5-f89f7828baaf"
      },
      "source": [
        "model_nb.score(X_train, y_train) # score on training data"
      ],
      "execution_count": 24,
      "outputs": [
        {
          "output_type": "execute_result",
          "data": {
            "text/plain": [
              "0.7391564207650273"
            ]
          },
          "metadata": {
            "tags": []
          },
          "execution_count": 24
        }
      ]
    },
    {
      "cell_type": "code",
      "metadata": {
        "colab": {
          "base_uri": "https://localhost:8080/",
          "height": 296
        },
        "id": "4xI6bwfSz70y",
        "outputId": "5ae42b0a-137b-4aa1-b4b7-933f94834be4"
      },
      "source": [
        "plot_confusion_matrix(model_nb, X_test, y_test) \n",
        "# plt.show() "
      ],
      "execution_count": 25,
      "outputs": [
        {
          "output_type": "execute_result",
          "data": {
            "text/plain": [
              "<sklearn.metrics._plot.confusion_matrix.ConfusionMatrixDisplay at 0x7febf85c0358>"
            ]
          },
          "metadata": {
            "tags": []
          },
          "execution_count": 25
        },
        {
          "output_type": "display_data",
          "data": {
            "image/png": "[encoded data removed]",
            "text/plain": [
              "<Figure size 432x288 with 2 Axes>"
            ]
          },
          "metadata": {
            "tags": [],
            "needs_background": "light"
          }
        }
      ]
    },
    {
      "cell_type": "code",
      "metadata": {
        "colab": {
          "base_uri": "https://localhost:8080/"
        },
        "id": "vE7b55X63TFi",
        "outputId": "21da96de-012d-42fc-a46c-05f83818fd63"
      },
      "source": [
        "print('Classificaation Report is:')\n",
        "print(classification_report(y_test,y_pred_nb))\n"
      ],
      "execution_count": 26,
      "outputs": [
        {
          "output_type": "stream",
          "text": [
            "Classificaation Report is:\n",
            "              precision    recall  f1-score   support\n",
            "\n",
            "    negative       0.69      0.99      0.82      1870\n",
            "     neutral       0.71      0.17      0.28       614\n",
            "    positive       0.87      0.21      0.33       444\n",
            "\n",
            "    accuracy                           0.70      2928\n",
            "   macro avg       0.76      0.46      0.48      2928\n",
            "weighted avg       0.72      0.70      0.63      2928\n",
            "\n"
          ],
          "name": "stdout"
        }
      ]
    },
    {
      "cell_type": "markdown",
      "metadata": {
        "id": "3uU_XapnlK7Y"
      },
      "source": [
        "### Accuracy of model on test data "
      ]
    },
    {
      "cell_type": "code",
      "metadata": {
        "colab": {
          "base_uri": "https://localhost:8080/"
        },
        "id": "0mZu1KVl3Zto",
        "outputId": "9c349436-8b86-4461-f80b-b5f4c2138d9e"
      },
      "source": [
        "print('Accuracy on the test set is:')\n",
        "print(accuracy_score(y_test, y_pred_nb))"
      ],
      "execution_count": 27,
      "outputs": [
        {
          "output_type": "stream",
          "text": [
            "Accuracy on the test set is:\n",
            "0.700136612021858\n"
          ],
          "name": "stdout"
        }
      ]
    },
    {
      "cell_type": "markdown",
      "metadata": {
        "id": "fM5Skowz4DuK"
      },
      "source": [
        "- Just for trying I also implemented a logistic regression model ,although im not sure if i need to do OneVrest classifer .\n",
        "- I also tried Decision Tree classier but I think it was overfitting the training data "
      ]
    },
    {
      "cell_type": "code",
      "metadata": {
        "id": "0-adkIscc_w4"
      },
      "source": [
        "model_lg =LogisticRegression()\n",
        "model_lg.fit(X_train, y_train)\n",
        "y_pred_lg = model_lg.predict(X_test)\n"
      ],
      "execution_count": 28,
      "outputs": []
    },
    {
      "cell_type": "code",
      "metadata": {
        "colab": {
          "base_uri": "https://localhost:8080/",
          "height": 296
        },
        "id": "5h2Go3c_4hsR",
        "outputId": "c748450b-4f4a-4fd4-f754-833a3934bf18"
      },
      "source": [
        "plot_confusion_matrix(model_lg, X_test, y_test)  \n",
        "# plt.show() "
      ],
      "execution_count": 29,
      "outputs": [
        {
          "output_type": "execute_result",
          "data": {
            "text/plain": [
              "<sklearn.metrics._plot.confusion_matrix.ConfusionMatrixDisplay at 0x7febd4c21828>"
            ]
          },
          "metadata": {
            "tags": []
          },
          "execution_count": 29
        },
        {
          "output_type": "display_data",
          "data": {
            "image/png": "[encoded data removed]",
            "text/plain": [
              "<Figure size 432x288 with 2 Axes>"
            ]
          },
          "metadata": {
            "tags": [],
            "needs_background": "light"
          }
        }
      ]
    },
    {
      "cell_type": "code",
      "metadata": {
        "colab": {
          "base_uri": "https://localhost:8080/"
        },
        "id": "3sN7IL4e4T6z",
        "outputId": "4bd12930-386f-4a9e-e2dc-9741b8ced53c"
      },
      "source": [
        "print('Classificaation Report is:')\n",
        "print(classification_report(y_test,y_pred_lg))"
      ],
      "execution_count": 30,
      "outputs": [
        {
          "output_type": "stream",
          "text": [
            "Classificaation Report is:\n",
            "              precision    recall  f1-score   support\n",
            "\n",
            "    negative       0.80      0.94      0.86      1870\n",
            "     neutral       0.66      0.46      0.54       614\n",
            "    positive       0.81      0.55      0.65       444\n",
            "\n",
            "    accuracy                           0.78      2928\n",
            "   macro avg       0.76      0.65      0.69      2928\n",
            "weighted avg       0.77      0.78      0.76      2928\n",
            "\n"
          ],
          "name": "stdout"
        }
      ]
    },
    {
      "cell_type": "code",
      "metadata": {
        "colab": {
          "base_uri": "https://localhost:8080/"
        },
        "id": "KyZg23Fc4q9C",
        "outputId": "b9c68221-fd81-4f86-e60f-a33745adc65b"
      },
      "source": [
        "print('Accuracy on the test set is:')\n",
        "print(accuracy_score(y_test, y_pred_lg))"
      ],
      "execution_count": 31,
      "outputs": [
        {
          "output_type": "stream",
          "text": [
            "Accuracy on the test set is:\n",
            "0.7800546448087432\n"
          ],
          "name": "stdout"
        }
      ]
    },
    {
      "cell_type": "markdown",
      "metadata": {
        "id": "UUdjnhV740Xs"
      },
      "source": [
        "- The logistic regression performs better , but im not sure if since this is a 3 class prediction if this is the right approach , i beileve that the Naive Bayes classifier model is a better fit for such data sets"
      ]
    },
    {
      "cell_type": "markdown",
      "metadata": {
        "id": "jfcRsmBBDt2n"
      },
      "source": [
        "# Part 3"
      ]
    },
    {
      "cell_type": "markdown",
      "metadata": {
        "id": "M9iAfiLamFDw"
      },
      "source": [
        "### The top 3 airlines in terms of the fraction of negative tweets"
      ]
    },
    {
      "cell_type": "code",
      "metadata": {
        "id": "hMmtAlRs_LO4",
        "colab": {
          "base_uri": "https://localhost:8080/",
          "height": 153
        },
        "outputId": "9f52918c-8b11-427f-f823-4d6657be92bf"
      },
      "source": [
        "airline_array=df['airline'].unique()\n",
        "dict_neg={}\n",
        "for airline in airline_array:\n",
        "  df_1=df[df['airline']==airline]\n",
        "  count=df_1['airline_sentiment'].count()\n",
        "  count=df_1['text'].count()\n",
        "  d=df_1[df_1['airline_sentiment']=='negative']\n",
        "  neg=d['text'].count()\n",
        "  a=neg/count\n",
        "  dict_neg[airline]=a\n",
        "negative=pd.DataFrame.from_dict(dict_neg,orient='index', columns=['Fraction of negative Tweets'])\n",
        "print('The top 3 airlines in terms of the fraction of negative tweets')\n",
        "negative.sort_values(by='Fraction of negative Tweets',ascending=False).head(3)"
      ],
      "execution_count": 32,
      "outputs": [
        {
          "output_type": "stream",
          "text": [
            "The top 3 airlines in terms of the fraction of negative tweets\n"
          ],
          "name": "stdout"
        },
        {
          "output_type": "execute_result",
          "data": {
            "text/html": [
              "<div>\n",
              "<style scoped>\n",
              "    .dataframe tbody tr th:only-of-type {\n",
              "        vertical-align: middle;\n",
              "    }\n",
              "\n",
              "    .dataframe tbody tr th {\n",
              "        vertical-align: top;\n",
              "    }\n",
              "\n",
              "    .dataframe thead th {\n",
              "        text-align: right;\n",
              "    }\n",
              "</style>\n",
              "<table border=\"1\" class=\"dataframe\">\n",
              "  <thead>\n",
              "    <tr style=\"text-align: right;\">\n",
              "      <th></th>\n",
              "      <th>Fraction of negative Tweets</th>\n",
              "    </tr>\n",
              "  </thead>\n",
              "  <tbody>\n",
              "    <tr>\n",
              "      <th>US Airways</th>\n",
              "      <td>0.776862</td>\n",
              "    </tr>\n",
              "    <tr>\n",
              "      <th>American</th>\n",
              "      <td>0.710402</td>\n",
              "    </tr>\n",
              "    <tr>\n",
              "      <th>United</th>\n",
              "      <td>0.688906</td>\n",
              "    </tr>\n",
              "  </tbody>\n",
              "</table>\n",
              "</div>"
            ],
            "text/plain": [
              "            Fraction of negative Tweets\n",
              "US Airways                     0.776862\n",
              "American                       0.710402\n",
              "United                         0.688906"
            ]
          },
          "metadata": {
            "tags": []
          },
          "execution_count": 32
        }
      ]
    },
    {
      "cell_type": "code",
      "metadata": {
        "id": "m-wcV3EJHG5w",
        "colab": {
          "base_uri": "https://localhost:8080/"
        },
        "outputId": "3ce5e1b3-74c1-4c89-9888-972d7378d351"
      },
      "source": [
        "print('The top 3 airlines in terms of the fraction of negative tweets')\n",
        "print(negative.sort_values(by='Fraction of negative Tweets',ascending=False).head(3).index.values)"
      ],
      "execution_count": 33,
      "outputs": [
        {
          "output_type": "stream",
          "text": [
            "The top 3 airlines in terms of the fraction of negative tweets\n",
            "['US Airways' 'American' 'United']\n"
          ],
          "name": "stdout"
        }
      ]
    },
    {
      "cell_type": "markdown",
      "metadata": {
        "id": "BoXEoc9RmG6S"
      },
      "source": [
        "### The top 3 airlines in terms of the fraction of positive tweets"
      ]
    },
    {
      "cell_type": "code",
      "metadata": {
        "id": "W1jV6cV4EZ0D",
        "colab": {
          "base_uri": "https://localhost:8080/",
          "height": 153
        },
        "outputId": "99c5793c-9543-4cd6-c967-d2eb88f8c861"
      },
      "source": [
        "airline_array=df['airline'].unique()\n",
        "dict_pos={}\n",
        "for airline in airline_array:\n",
        "  df_1=df[df['airline']==airline]\n",
        "  count=df_1['airline_sentiment'].count()\n",
        "  count=df_1['text'].count()\n",
        "  d=df_1[df_1['airline_sentiment']=='positive']\n",
        "  neg=d['text'].count()\n",
        "  a=neg/count\n",
        "  dict_pos[airline]=a\n",
        "positive=pd.DataFrame.from_dict(dict_pos,orient='index', columns=['Fraction of positive Tweets'])\n",
        "print('The top 3 airlines in terms of the fraction of positive tweets')\n",
        "positive.sort_values(by='Fraction of positive Tweets',ascending=False).head(3)"
      ],
      "execution_count": 34,
      "outputs": [
        {
          "output_type": "stream",
          "text": [
            "The top 3 airlines in terms of the fraction of positive tweets\n"
          ],
          "name": "stdout"
        },
        {
          "output_type": "execute_result",
          "data": {
            "text/html": [
              "<div>\n",
              "<style scoped>\n",
              "    .dataframe tbody tr th:only-of-type {\n",
              "        vertical-align: middle;\n",
              "    }\n",
              "\n",
              "    .dataframe tbody tr th {\n",
              "        vertical-align: top;\n",
              "    }\n",
              "\n",
              "    .dataframe thead th {\n",
              "        text-align: right;\n",
              "    }\n",
              "</style>\n",
              "<table border=\"1\" class=\"dataframe\">\n",
              "  <thead>\n",
              "    <tr style=\"text-align: right;\">\n",
              "      <th></th>\n",
              "      <th>Fraction of positive Tweets</th>\n",
              "    </tr>\n",
              "  </thead>\n",
              "  <tbody>\n",
              "    <tr>\n",
              "      <th>Virgin America</th>\n",
              "      <td>0.301587</td>\n",
              "    </tr>\n",
              "    <tr>\n",
              "      <th>Delta</th>\n",
              "      <td>0.244824</td>\n",
              "    </tr>\n",
              "    <tr>\n",
              "      <th>Southwest</th>\n",
              "      <td>0.235537</td>\n",
              "    </tr>\n",
              "  </tbody>\n",
              "</table>\n",
              "</div>"
            ],
            "text/plain": [
              "                Fraction of positive Tweets\n",
              "Virgin America                     0.301587\n",
              "Delta                              0.244824\n",
              "Southwest                          0.235537"
            ]
          },
          "metadata": {
            "tags": []
          },
          "execution_count": 34
        }
      ]
    },
    {
      "cell_type": "code",
      "metadata": {
        "id": "C09GDQ-gD1gh",
        "colab": {
          "base_uri": "https://localhost:8080/"
        },
        "outputId": "d3997212-483f-4022-ea85-455efa7b9fc1"
      },
      "source": [
        "print('The top 3 airlines in terms of the fraction of positive tweets')\n",
        "print(positive.sort_values(by='Fraction of positive Tweets',ascending=False).head(3).index.values)"
      ],
      "execution_count": 35,
      "outputs": [
        {
          "output_type": "stream",
          "text": [
            "The top 3 airlines in terms of the fraction of positive tweets\n",
            "['Virgin America' 'Delta' 'Southwest']\n"
          ],
          "name": "stdout"
        }
      ]
    }
  ]
}